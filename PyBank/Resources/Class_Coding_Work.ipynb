{
 "cells": [
  {
   "cell_type": "code",
   "execution_count": null,
   "id": "25dec49d-1bf7-4627-a18e-2687a62a0ca5",
   "metadata": {},
   "outputs": [],
   "source": [
    "# Variables\n",
    "\n",
    "# This is a comment - any code commented out is not run -\n",
    "# meaning that any code or text commented out is ignored.\n",
    "\n",
    "\"\"\"\n",
    "this is a multi-line comment\n",
    "You can comment out many lines at once.\n",
    "For the most part you will see single line comments\n",
    "but it is good to see this.\n",
    "As in single line comments, any code contained within multi-line comments are not run -\n",
    "meaning that any code commented out is ignored.\n",
    "\"\"\"\n",
    "\n",
    "# Topic: Strings\n",
    "\n",
    "# Create a variable named `subject` with no value (None).\n",
    "\n",
    "\n",
    "# Assign a value of \"Programmers to the variable `subject`.\n",
    "\n",
    "\n",
    "# Create a variable, `first_name`, and assign it a value of an empty string.\n",
    "\n",
    "\n",
    "# Assign a value of \"Ada\" to the variable `first_name`.\n",
    "\n",
    "\n",
    "# Create a variable, `last_name`, and assign it a value of a string, \"Lovelace\".\n",
    "\n",
    "\n",
    "# Create a variable, `full_name`, and assign it a value of the combination of `first_name` and `last_name` with a space.\n",
    "\n",
    "\n",
    "# Create a variable, `profession`, and assign it a value of a string, \"Computer Programmer\".\n",
    "\n",
    "\n",
    "# Create a variable, `known_for`, and assign it a value of a string, \"First Computer Programmer\".\n",
    "\n",
    "\n",
    "# Create a variable, `first_algorithm`, and assign it a value of a string, \"Analytical Engine\".\n",
    "\n",
    "\n",
    "# Create a variable, `city_location`, and assign it a value of a string, \"London\".\n",
    "\n",
    "\n",
    "# Create a variable, `country_location`, and assign it a value of a string, \"England\".\n",
    "\n",
    "\n",
    "# Create a variable, `nationality`, and assign it a value of a string, \"British\".\n",
    "\n",
    "\n",
    "\n",
    "# Topic: Integers\n",
    "\n",
    "# Create a variable, `birth_year`, and assign it with an integer of 1815.\n",
    "\n",
    "\n",
    "# Create a variable, `death_year`, and assign it with an integer of 1852.\n",
    "\n",
    "\n",
    "# Create a variable, `age_at_passing`, and assign it a value of death_year minus birth_year.\n",
    "\n",
    "\n",
    "# Create a variable, `year_of_publish`, and assign it with an integer of 1842.\n",
    "\n",
    "\n",
    "\n",
    "#Topic: Print\n",
    "\n",
    "# Print: \"First Name: \" and `first_name`.\n",
    "\n",
    "\n",
    "# Print: \"Last Name: \" and `last_name`.\n",
    "\n",
    "\n",
    "# Print: \"Profession: \" and `profession`.\n",
    "\n",
    "\n",
    "# Print: \"BirthYear: \" and `birth_year`.\n",
    "\n",
    "\n",
    "\n",
    "#Topic: Concat Values\n",
    "\n",
    "# Create and print a variable, `statement_one`, by assigning it a value of a concatenated string:\n",
    "# \"Programmers: Ada Lovelace is a British Computer Programmer born in 1815.\"\n",
    "\n",
    "\n",
    "# Create and print a variable, `statement_two`, by assigning it a value of a concatenated string:\n",
    "# \"She is commonly referred to as the First Computer Programmer.\"\n",
    "\n",
    "\n",
    "# Create and print a variable, `statement_three`, by assigning it a value of a concatenated string:\n",
    "# \"In 1842 she published the first Algorithm, the Analytical Engine, at the age of 27.\"\n",
    "\n",
    "\n",
    "# Create and print a variable, `statement_four`, by assigning it a value of a concatenated string:\n",
    "# \"She was a British Citizen who lived in London, England until her passing in 1852 at the age of 37.\"\n",
    "\n",
    "\n",
    "    "
   ]
  },
  {
   "cell_type": "code",
   "execution_count": 16,
   "id": "9b3787b4-9f88-43c4-9ff4-6aea5a4b5bd5",
   "metadata": {},
   "outputs": [],
   "source": []
  },
  {
   "cell_type": "code",
   "execution_count": 15,
   "id": "2b042ede-ec83-4d1d-bfe6-c9c6008fe76b",
   "metadata": {},
   "outputs": [],
   "source": [
    "# Create a variable named `subject` with no value (None).\n",
    "subject = (none)\n",
    "# Assign a value of \"Programmers to the variable `subject`.\n",
    "subject = \"Programmers\"\n",
    "#Create a variable, `first_name`, and assign it a value of an empty string\n",
    "first_name = \"  \"\n",
    "# Assign a value of \"Ada\" to the variable `first_name`.\n",
    "first_name = \"Ada\"\n",
    "# Create a variable, `last_name`, and assign it a value of a string, \"Lovelace\".\n",
    "Last_name = \"Lovelace\"\n"
   ]
  },
  {
   "cell_type": "code",
   "execution_count": 18,
   "id": "442ddd7c-313a-4354-b596-eaec7be8457f",
   "metadata": {},
   "outputs": [],
   "source": [
    "# Create a variable, `full_name`, and assign it a value of the combination of `first_name` and `last_name` with a space.\n",
    "full_name = first_name and Last_name\n",
    "# Create a variable, `profession`, and assign it a value of a string, \"Computer Programmer\".\n",
    "profession = \"Computer Programmer\"\n"
   ]
  },
  {
   "cell_type": "code",
   "execution_count": null,
   "id": "2c9fc61c-cadc-4050-935e-efc4464cb8ba",
   "metadata": {},
   "outputs": [],
   "source": []
  },
  {
   "cell_type": "code",
   "execution_count": null,
   "id": "49fcefe5-4f14-4aab-96b9-8a2a593ed2c0",
   "metadata": {},
   "outputs": [],
   "source": []
  },
  {
   "cell_type": "code",
   "execution_count": null,
   "id": "87b4328a-cc10-4c36-9b67-d1b0014a4af9",
   "metadata": {},
   "outputs": [],
   "source": []
  },
  {
   "cell_type": "code",
   "execution_count": 42,
   "id": "f3d965fb-612b-44b8-91a4-1c954fc7af68",
   "metadata": {},
   "outputs": [
    {
     "ename": "NameError",
     "evalue": "name 'pig' is not defined",
     "output_type": "error",
     "traceback": [
      "\u001b[1;31m---------------------------------------------------------------------------\u001b[0m",
      "\u001b[1;31mNameError\u001b[0m                                 Traceback (most recent call last)",
      "\u001b[1;32m~\\AppData\\Local\\Temp/ipykernel_26992/332528207.py\u001b[0m in \u001b[0;36m<module>\u001b[1;34m\u001b[0m\n\u001b[0;32m      1\u001b[0m \u001b[1;31m# Create a list called 'farm' with the elements \"pig\", \"cow\", \"chicken\", \"dog\", \"horse\", \"sheep\".\u001b[0m\u001b[1;33m\u001b[0m\u001b[1;33m\u001b[0m\u001b[0m\n\u001b[1;32m----> 2\u001b[1;33m \u001b[0mlist\u001b[0m \u001b[1;33m=\u001b[0m \u001b[1;33m[\u001b[0m\u001b[0mpig\u001b[0m\u001b[1;33m,\u001b[0m \u001b[0mcow\u001b[0m\u001b[1;33m,\u001b[0m \u001b[0mchicken\u001b[0m\u001b[1;33m,\u001b[0m \u001b[0mdog\u001b[0m\u001b[1;33m,\u001b[0m \u001b[0mhorse\u001b[0m\u001b[1;33m.\u001b[0m \u001b[0msheep\u001b[0m\u001b[1;33m]\u001b[0m\u001b[1;33m\u001b[0m\u001b[1;33m\u001b[0m\u001b[0m\n\u001b[0m\u001b[0;32m      3\u001b[0m \u001b[1;33m\u001b[0m\u001b[0m\n\u001b[0;32m      4\u001b[0m \u001b[1;33m\u001b[0m\u001b[0m\n\u001b[0;32m      5\u001b[0m \u001b[1;31m# Write an if statement that prints the string \"RWAR!\" if the first element of farm is NOT \"Godzilla\".\u001b[0m\u001b[1;33m\u001b[0m\u001b[1;33m\u001b[0m\u001b[0m\n",
      "\u001b[1;31mNameError\u001b[0m: name 'pig' is not defined"
     ]
    }
   ],
   "source": [
    "# Create a list called 'farm' with the elements \"pig\", \"cow\", \"chicken\", \"dog\", \"horse\", \"sheep\".\n",
    "list = [pig, cow, chicken, dog, horse. sheep]\n",
    "\n",
    "\n",
    "# Write an if statement that prints the string \"RWAR!\" if the first element of farm is NOT \"Godzilla\".\n",
    "\n",
    "# Write an else if statement that prints the string \"SCREECH!\" if the last element of farm is \"Mothra\".\n",
    "\n",
    "# Else, print the string \"This animal is neither Godzilla nor Mothra!\".\n",
    "\n",
    "\n",
    "# Declare a variable named 'dog' with a string of \"Spot\".\n",
    "\n",
    "# Declare 3 variables `cat`, `city`, `car` without assigning them values.\n",
    "\n",
    "\n",
    "# Assign the string \"Farley\" to `cat`.\n",
    "\n",
    "\n",
    "# Assign the string \"San Francisco\" to `city`.\n",
    "\n",
    "\n",
    "# Assign the string \"Prius\" to `car`.\n",
    "car = 'Prius'\n",
    "\n",
    "\n",
    "# Using string concatenation, print out the sentence \"See Spot run!\".\n",
    "\n",
    "\n",
    "# Using string concatenation, print out the sentence \"I drive Farley around San Francisco in my Prius\".\n",
    "\n",
    "\n",
    "# Declare a variable budget and assign it a value of 5000.\n",
    "\n",
    "\n",
    "# Declare a variable rent_cost and assign it a value of 1500.\n",
    "\n",
    "\n",
    "# Declare a variable utilities_cost and assign it a value of 150.\n",
    "\n",
    "\n",
    "# Declare a variable food_cost and assign it a value of 250.\n",
    "\n",
    "\n",
    "# Declare a variable transportation_cost and assign it a value of 350.\n",
    "\n",
    "\n",
    "# Declare a variable computer_cost and assign it a value of 2000.\n",
    "\n",
    "\n",
    "# Declare a variable called total_cost that takes the sum of all costs above (excluding budget).\n",
    "\n",
    "\n",
    "# Write an if statement that checks whether the sum of all our costs is within the budget.\n",
    "# If so, print \"You're total cost is \" concatentated with the `total_cost` variable.\n",
    "# Else, print \"You're over budget by \" concatenated with the difference between `budget` and `total_cost`.\n",
    "\n",
    "\n",
    "# Write an if statement that checks whether the rent_cost is larger than the sum of the `utilities_cost`, `food_cost`,\n",
    "# and `transportation_cost`. If so, print a string that says \"The rent is too damn high!\".\n"
   ]
  },
  {
   "cell_type": "code",
   "execution_count": 22,
   "id": "2f9bd68b-ab9b-4ec3-88d0-05318fed1426",
   "metadata": {},
   "outputs": [],
   "source": [
    "# Create a list called 'farm' with the elements \"pig\", \"cow\", \"chicken\", \"dog\", \"horse\", \"sheep\".\n",
    "farm = ['pig','cow','chicken','dog','horse','sheep']"
   ]
  },
  {
   "cell_type": "code",
   "execution_count": 31,
   "id": "f91f4d8d-b464-49fd-b5e0-95b4cabb29c6",
   "metadata": {},
   "outputs": [
    {
     "ename": "SyntaxError",
     "evalue": "invalid syntax (Temp/ipykernel_26992/3715007897.py, line 4)",
     "output_type": "error",
     "traceback": [
      "\u001b[1;36m  File \u001b[1;32m\"C:\\Users\\truck\\AppData\\Local\\Temp/ipykernel_26992/3715007897.py\"\u001b[1;36m, line \u001b[1;32m4\u001b[0m\n\u001b[1;33m    elsif farm [-1] ==\"Mothra\":\u001b[0m\n\u001b[1;37m          ^\u001b[0m\n\u001b[1;31mSyntaxError\u001b[0m\u001b[1;31m:\u001b[0m invalid syntax\n"
     ]
    }
   ],
   "source": [
    "# Write an if statement that prints the string \"RWAR!\" if the first element of farm is NOT \"Godzilla\".\n",
    "if farm [0] != \"Godzilla\":\n",
    "    print(\"Rawrr!\")\n"
   ]
  },
  {
   "cell_type": "code",
   "execution_count": null,
   "id": "8392ee34-cc87-483e-9ef7-4b6796bca52d",
   "metadata": {},
   "outputs": [],
   "source": [
    "# Write an else if statement that prints the string \"SCREECH!\" if the last element of farm is \"Mothra\".\n",
    "elsif farm [-1] ==\"Mothra\":\n",
    "    print(\"SCREECH!\")\n",
    "print()"
   ]
  },
  {
   "cell_type": "code",
   "execution_count": 33,
   "id": "9eb1d886-59ed-4721-8054-5427e9e9d56c",
   "metadata": {},
   "outputs": [
    {
     "ename": "SyntaxError",
     "evalue": "invalid syntax (Temp/ipykernel_26992/126297805.py, line 2)",
     "output_type": "error",
     "traceback": [
      "\u001b[1;36m  File \u001b[1;32m\"C:\\Users\\truck\\AppData\\Local\\Temp/ipykernel_26992/126297805.py\"\u001b[1;36m, line \u001b[1;32m2\u001b[0m\n\u001b[1;33m    else:\u001b[0m\n\u001b[1;37m    ^\u001b[0m\n\u001b[1;31mSyntaxError\u001b[0m\u001b[1;31m:\u001b[0m invalid syntax\n"
     ]
    }
   ],
   "source": [
    "# Else, print the string \"This animal is neither Godzilla nor Mothra!\".\n",
    "else:\n",
    "    print (\"This animal is neither Godzilla nor Mothra!\")"
   ]
  },
  {
   "cell_type": "code",
   "execution_count": 36,
   "id": "48f2e073-a7c3-41fc-b22d-546a623046f2",
   "metadata": {},
   "outputs": [],
   "source": [
    "# Declare a variable named 'dog' with a string of \"Spot\".\n",
    "dog = 'spot'\n",
    "# Declare 3 variables `cat`, `city`, `car` without assigning them values.\n",
    "cat = ' '\n",
    "city = ' '\n",
    "car = ' '"
   ]
  },
  {
   "cell_type": "code",
   "execution_count": 51,
   "id": "8be16161-db52-4e14-a7a6-883d042c27c7",
   "metadata": {},
   "outputs": [
    {
     "name": "stdout",
     "output_type": "stream",
     "text": [
      "See spot run!\n"
     ]
    }
   ],
   "source": [
    "\n",
    "# Assign the string \"Farley\" to `cat`.\n",
    "cat = 'Farley'\n",
    "# Assign the string \"San Francisco\" to `city`.\n",
    "city = 'San Fransico'\n",
    "# Assign the string \"Prius\" to `car`.\n",
    "car = 'Prius'\n",
    "# Using string concatenation, print out the sentence \"See Spot run!\".\n",
    "print(f'See {dog} run!')"
   ]
  },
  {
   "cell_type": "code",
   "execution_count": 49,
   "id": "0854fda3-9938-4da1-88eb-f1b3649f6353",
   "metadata": {},
   "outputs": [
    {
     "name": "stdout",
     "output_type": "stream",
     "text": [
      "I drive Farley around San Fransico in my Prius\n"
     ]
    }
   ],
   "source": [
    "# Using string concatenation, print out the sentence \"I drive Farley around San Francisco in my Prius\".\n",
    "print(f'I drive {cat} around {city} in my {car}')"
   ]
  },
  {
   "cell_type": "code",
   "execution_count": 53,
   "id": "348dd536-0aea-4de7-8dcb-92329fd5143a",
   "metadata": {},
   "outputs": [],
   "source": [
    "# Declare a variable budget and assign it a value of 5000.\n",
    "budget = 5000\n",
    "# Declare a variable rent_cost and assign it a value of 1500.\n",
    "rent_cost = 1500"
   ]
  },
  {
   "cell_type": "code",
   "execution_count": null,
   "id": "9c5e26ba-a6c3-459e-91b7-cac07e8e3187",
   "metadata": {},
   "outputs": [],
   "source": []
  },
  {
   "cell_type": "code",
   "execution_count": null,
   "id": "6cb0154e-168a-45fe-91c6-1cb43464774a",
   "metadata": {},
   "outputs": [],
   "source": []
  },
  {
   "cell_type": "code",
   "execution_count": null,
   "id": "525a1bb8-0749-47ac-8b5a-c09048ce2491",
   "metadata": {},
   "outputs": [],
   "source": []
  },
  {
   "cell_type": "code",
   "execution_count": null,
   "id": "353c6990-2ffa-4bf3-8ab3-d5e3183b6190",
   "metadata": {},
   "outputs": [],
   "source": []
  },
  {
   "cell_type": "code",
   "execution_count": null,
   "id": "79b1be2a-33a4-40c5-82e8-a4a92fe20e29",
   "metadata": {},
   "outputs": [],
   "source": []
  },
  {
   "cell_type": "code",
   "execution_count": null,
   "id": "ed974bee-acf7-4a3b-a72a-157556da4e9b",
   "metadata": {},
   "outputs": [],
   "source": []
  },
  {
   "cell_type": "code",
   "execution_count": null,
   "id": "6e102922-3a6b-4ca4-bd09-e48168a01de8",
   "metadata": {},
   "outputs": [],
   "source": []
  },
  {
   "cell_type": "code",
   "execution_count": null,
   "id": "688b04a0-e855-4f7b-b0b0-18f4faf5947d",
   "metadata": {},
   "outputs": [],
   "source": []
  }
 ],
 "metadata": {
  "kernelspec": {
   "display_name": "Python 3 (ipykernel)",
   "language": "python",
   "name": "python3"
  },
  "language_info": {
   "codemirror_mode": {
    "name": "ipython",
    "version": 3
   },
   "file_extension": ".py",
   "mimetype": "text/x-python",
   "name": "python",
   "nbconvert_exporter": "python",
   "pygments_lexer": "ipython3",
   "version": "3.7.11"
  }
 },
 "nbformat": 4,
 "nbformat_minor": 5
}
